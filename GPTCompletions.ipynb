{
 "cells": [
  {
   "cell_type": "code",
   "execution_count": 1,
   "id": "5f3a9a15-4447-4fb4-8b25-762ef2bf51a1",
   "metadata": {},
   "outputs": [],
   "source": [
    "import torch\n",
    "import numpy as np\n",
    "import pandas as pd\n",
    "import os\n",
    "import matplotlib.pyplot as plt\n",
    "import seaborn as sns\n",
    "from transformers import GPT2Tokenizer\n",
    "import tqdm\n",
    "from PIL import Image\n",
    "import io"
   ]
  },
  {
   "cell_type": "code",
   "execution_count": 2,
   "id": "e362364e-d84e-4862-8243-faef05a3bfb7",
   "metadata": {
    "scrolled": true
   },
   "outputs": [],
   "source": [
    "import os\n",
    "import base64\n",
    "import requests\n",
    "import openai\n",
    "openai.organization = \"org-thCr4LFe4RGs65Rdh4YKMLC8\"\n",
    "# First save your openai gpt key to a txt file called gptkey.txt and restrict reading privileges\n",
    "# then run the following in the terminal $ export OPENAI_API_KEY=$(cat /path/to/gptkey.txt)\n",
    "# Make sure you do this in the same session as which you launch this notebook. You will probably\n",
    "# need to restart this jupyter session in order to set the key.\n",
    "openai.api_key = os.getenv(\"OPENAI_API_KEY\")"
   ]
  },
  {
   "cell_type": "markdown",
   "id": "03035d60-5c1d-4fdd-9e84-8dc20cda0c3d",
   "metadata": {},
   "source": [
    "## Completion Example"
   ]
  },
  {
   "cell_type": "code",
   "execution_count": 4,
   "id": "86c49a23-60b0-4a4f-b310-ee3817694b5f",
   "metadata": {},
   "outputs": [],
   "source": [
    "# Example completion request\n",
    "#response = openai.Completion.create(\n",
    "#  model=\"text-davinci-003\",\n",
    "#  prompt=\"Say this is a test\",\n",
    "#  max_tokens=7,\n",
    "#  temperature=0\n",
    "#)\n",
    "\n",
    "# Example Response object\n",
    "#{\n",
    "#  \"id\": \"cmpl-uqkvlQyYK7bGYrRHQ0eXlWi7\",\n",
    "#  \"object\": \"text_completion\",\n",
    "#  \"created\": 1589478378,\n",
    "#  \"model\": \"text-davinci-003\",\n",
    "#  \"choices\": [\n",
    "#    {\n",
    "#      \"text\": \"\\n\\nThis is indeed a test\",\n",
    "#      \"index\": 0,\n",
    "#      \"logprobs\": null,\n",
    "#      \"finish_reason\": \"length\"\n",
    "#    }\n",
    "#  ],\n",
    "#  \"usage\": {\n",
    "#    \"prompt_tokens\": 5,\n",
    "#    \"completion_tokens\": 7,\n",
    "#    \"total_tokens\": 12\n",
    "#  }\n",
    "#}"
   ]
  },
  {
   "cell_type": "code",
   "execution_count": 5,
   "id": "00a8fae8-cd16-4161-8072-c292ea708efa",
   "metadata": {},
   "outputs": [],
   "source": [
    "## Alternatively use the chat version\n",
    "#response = openai.ChatCompletion.create(\n",
    "#  model=\"gpt-3.5-turbo\",\n",
    "#  messages=[\n",
    "#    {\"role\": \"system\", \"content\": \"You are a helpful assistant.\"},\n",
    "#    {\"role\": \"user\", \"content\": \"Hello!\"}\n",
    "#  ]\n",
    "#)\n",
    "#\n",
    "#print(response.choices[0].message)\n",
    "\n",
    "## Example Response\n",
    "#{\n",
    "#  \"id\": \"cmpl-uqkvlQyYK7bGYrRHQ0eXlWi7\",\n",
    "#  \"object\": \"text_completion\",\n",
    "#  \"created\": 1589478378,\n",
    "#  \"model\": \"text-davinci-003\",\n",
    "#  \"choices\": [\n",
    "#    {\n",
    "#      \"text\": \"\\n\\nThis is indeed a test\",\n",
    "#      \"index\": 0,\n",
    "#      \"logprobs\": null,\n",
    "#      \"finish_reason\": \"length\"\n",
    "#    }\n",
    "#  ],\n",
    "#  \"usage\": {\n",
    "#    \"prompt_tokens\": 5,\n",
    "#    \"completion_tokens\": 7,\n",
    "#    \"total_tokens\": 12\n",
    "#  }\n",
    "#}"
   ]
  },
  {
   "cell_type": "code",
   "execution_count": 47,
   "id": "6f95624e-9eb0-4363-8f91-c5e343da683b",
   "metadata": {},
   "outputs": [],
   "source": [
    "# Function to encode the image\n",
    "def encode_image(image):\n",
    "    \"\"\"\n",
    "    Takes a uint8 ndarray or an image file path\n",
    "    \"\"\"\n",
    "    if type(image)==type(np.zeros(1)):\n",
    "        if image.dtype!=\"uint8\":\n",
    "            image = np.uint8(image*255)\n",
    "        img = Image.fromarray(image)\n",
    "        img_byte_arr = io.BytesIO()\n",
    "        img.save(img_byte_arr, format='JPEG')\n",
    "        img_byte_arr = img_byte_arr.getvalue()\n",
    "        return base64.b64encode(img_byte_arr).decode('utf-8')\n",
    "    with open(image_path, \"rb\") as image_file:\n",
    "        return base64.b64encode(image_file.read()).decode('utf-8')\n"
   ]
  },
  {
   "cell_type": "code",
   "execution_count": 51,
   "id": "221fd5a5-c9ea-4255-bff0-2fdb47d6af11",
   "metadata": {},
   "outputs": [],
   "source": [
    "async def async_request(payload, headers):\n",
    "    return requests.post(\"https://api.openai.com/v1/chat/completions\", headers=headers, json=payload)\n",
    "\n",
    "async def image_request(image, text, max_tokens=300): \n",
    "    # Getting the base64 string\n",
    "    base64_image = encode_image(image)\n",
    "    \n",
    "    headers = {\n",
    "      \"Content-Type\": \"application/json\",\n",
    "      \"Authorization\": f\"Bearer {openai.api_key}\"\n",
    "    }\n",
    "    \n",
    "    payload = {\n",
    "      \"model\": \"gpt-4-vision-preview\",\n",
    "      \"messages\": [\n",
    "        {\n",
    "          \"role\": \"user\",\n",
    "          \"content\": [\n",
    "            {\n",
    "              \"type\": \"text\",\n",
    "              \"text\": text,\n",
    "            },\n",
    "            {\n",
    "              \"type\": \"image_url\",\n",
    "              \"image_url\": {\n",
    "                \"url\": f\"data:image/jpeg;base64,{base64_image}\"\n",
    "              }\n",
    "            }\n",
    "          ]\n",
    "        }\n",
    "      ],\n",
    "      \"max_tokens\": max_tokens,\n",
    "    }\n",
    "    \n",
    "    return await async_request(payload, headers)"
   ]
  },
  {
   "cell_type": "code",
   "execution_count": 52,
   "id": "0072653f-35f2-4505-9375-f756cd920646",
   "metadata": {},
   "outputs": [
    {
     "name": "stdout",
     "output_type": "stream",
     "text": [
      "{'model': 'gpt-4-vision-preview', 'messages': [{'role': 'user', 'content': [{'type': 'text', 'text': 'Please describe this image.'}, {'type': 'image_url', 'image_url': {'url': 'data:image/jpeg;base64,/9j/4AAQSkZJRgABAQAAAQABAAD/2wBDAAgGBgcGBQgHBwcJCQgKDBQNDAsLDBkSEw8UHRofHh0aHBwgJC4nICIsIxwcKDcpLDAxNDQ0Hyc5PTgyPC4zNDL/2wBDAQkJCQwLDBgNDRgyIRwhMjIyMjIyMjIyMjIyMjIyMjIyMjIyMjIyMjIyMjIyMjIyMjIyMjIyMjIyMjIyMjIyMjL/wAARCAAeAB4DASIAAhEBAxEB/8QAHwAAAQUBAQEBAQEAAAAAAAAAAAECAwQFBgcICQoL/8QAtRAAAgEDAwIEAwUFBAQAAAF9AQIDAAQRBRIhMUEGE1FhByJxFDKBkaEII0KxwRVS0fAkM2JyggkKFhcYGRolJicoKSo0NTY3ODk6Q0RFRkdISUpTVFVWV1hZWmNkZWZnaGlqc3R1dnd4eXqDhIWGh4iJipKTlJWWl5iZmqKjpKWmp6ipqrKztLW2t7i5usLDxMXGx8jJytLT1NXW19jZ2uHi4+Tl5ufo6erx8vP09fb3+Pn6/8QAHwEAAwEBAQEBAQEBAQAAAAAAAAECAwQFBgcICQoL/8QAtREAAgECBAQDBAcFBAQAAQJ3AAECAxEEBSExBhJBUQdhcRMiMoEIFEKRobHBCSMzUvAVYnLRChYkNOEl8RcYGRomJygpKjU2Nzg5OkNERUZHSElKU1RVVldYWVpjZGVmZ2hpanN0dXZ3eHl6goOEhYaHiImKkpOUlZaXmJmaoqOkpaanqKmqsrO0tba3uLm6wsPExcbHyMnK0tPU1dbX2Nna4uPk5ebn6Onq8vP09fb3+Pn6/9oADAMBAAIRAxEAPwDxPQdBuvEN89paSQpIkZlJlJAwCB2B55FQavpc+japNp9y0bSxbdxjJKnKhuMgdjRper32jXLXGnz+TKyGMtsVsqSDjBB7gVHf39zqd7JeXkvm3EmNz7QucAAcAAdAK2bpeySSfNf5WFrc0vD/AIXvfEn2j7HLbp9n27vOZhndnGMA/wB01l3lq9jfXFpKVMkEjRMV6EqcHHtxVvSte1PRPO/s658nztu/92rZxnH3gfU1RuLiW7uZbidt0srmR2wBlick4HvRJ0vZxUU+br2DW57dB4R8M+M/BWjadpt9pNnq0dvBPcyW0Uck5xHtcOFYN95hknuBVL/hQv8A1Mv/AJI//bK8jsdSvtLnafT724tJWXYZLeVo2K5BxkEcZA/KtD/hL/E3/Qxat/4Gyf8AxVeb7GtF+5PTzRw/V8RFtU6mnmj0z/hQv/Uy/wDkj/8AbKpfEmw8M6V4K07TtNl0mXVrS4jguZLZY1nfbG6uXCksMsBkHviuA/4S/wATf9DFq3/gbJ/8VWTNNLcTyTzyPLLIxd5HYszMTkkk9STVRo1eZOpO9ioYes5qVWd7dkf/2Q=='}}]}], 'max_tokens': 300}\n"
     ]
    }
   ],
   "source": [
    "resp = await image_request(image=image, text=\"Please describe this image.\")"
   ]
  },
  {
   "cell_type": "code",
   "execution_count": 49,
   "id": "c70a5920-47db-4f4e-aaf1-0a67aa67305d",
   "metadata": {},
   "outputs": [
    {
     "name": "stdout",
     "output_type": "stream",
     "text": [
      "{'id': 'chatcmpl-8NxCySm6gze0Yl59brf0bhNH5PQbE', 'object': 'chat.completion', 'created': 1700719832, 'model': 'gpt-4-1106-vision-preview', 'usage': {'prompt_tokens': 271, 'completion_tokens': 48, 'total_tokens': 319}, 'choices': [{'message': {'role': 'assistant', 'content': \"You've provided an image that appears to be very small and low in resolution, depicting a simplistic face with a square mouth and square eyes, set against a dark background, which looks like a stylized, pixelated emoticon or icon.\"}, 'finish_details': {'type': 'stop', 'stop': '<|fim_suffix|>'}, 'index': 0}]}\n"
     ]
    }
   ],
   "source": [
    "## Example with images\n",
    "#red = np.array([1,0.5,0.5])\n",
    "#green = np.array([0.5,1,.5])\n",
    "#blue = np.array([.5,.5,1])\n",
    "#\n",
    "## Path to your image\n",
    "#image = np.zeros((30,30,3))\n",
    "#image[5:10,5:10] = blue\n",
    "#image[5:10,20:25] = blue\n",
    "#image[20:25,5:25] = green\n",
    "#image[17:23,1:5] = green\n",
    "#image[17:23,25:-1] = green\n",
    "#image = np.uint8(image*255)\n",
    "#plt.imshow(image)\n",
    "#plt.show()\n",
    "#\n",
    "## Getting the base64 string\n",
    "#base64_image = encode_image(image)\n",
    "#\n",
    "#headers = {\n",
    "#  \"Content-Type\": \"application/json\",\n",
    "#  \"Authorization\": f\"Bearer {openai.api_key}\"\n",
    "#}\n",
    "#\n",
    "#payload = {\n",
    "#  \"model\": \"gpt-4-vision-preview\",\n",
    "#  \"messages\": [\n",
    "#    {\n",
    "#      \"role\": \"user\",\n",
    "#      \"content\": [\n",
    "#        {\n",
    "#          \"type\": \"text\",\n",
    "#          \"text\": \"Please describe this image with a single sentence.\"\n",
    "#        },\n",
    "#        {\n",
    "#          \"type\": \"image_url\",\n",
    "#          \"image_url\": {\n",
    "#            \"url\": f\"data:image/jpeg;base64,{base64_image}\"\n",
    "#          }\n",
    "#        }\n",
    "#      ]\n",
    "#    }\n",
    "#  ],\n",
    "#  \"max_tokens\": 300\n",
    "#}\n",
    "#\n",
    "#async def async_request(payload, headers):\n",
    "#    return requests.post(\"https://api.openai.com/v1/chat/completions\", headers=headers, json=payload)\n",
    "#\n",
    "#resp = await async_request(payload, headers)\n",
    "#print(resp.json())"
   ]
  },
  {
   "cell_type": "code",
   "execution_count": null,
   "id": "258d3f9c-ae37-4f45-8ddb-512da48f816d",
   "metadata": {},
   "outputs": [],
   "source": []
  },
  {
   "cell_type": "markdown",
   "id": "5d3e874d-3ad6-44c4-9453-ec85bb74a868",
   "metadata": {},
   "source": [
    "# Curate Data"
   ]
  },
  {
   "cell_type": "code",
   "execution_count": 4,
   "id": "d4bbc048-60b7-400c-8be7-1470f10d30de",
   "metadata": {},
   "outputs": [
    {
     "name": "stdout",
     "output_type": "stream",
     "text": [
      "0 ./data/data/ex_1000.world.geometric_only.ppn_1.cls_2.tlf.ts_100.sl_15.simple.aws_50.V0\n",
      "1 ./data/data/ex_100.world.active.all.all.ppn_1.cls_2.tlf.ts_100.sl_15.gpt.aws_50.V0\n",
      "2 ./data/data/ex_1000.world.geometric_only.ppn_1.cls_2.tlf.ts_100.sl_15.gpt.aws_50.V0\n"
     ]
    }
   ],
   "source": [
    "root_name = \"./data/data/\"\n",
    "dset_paths = [os.path.join(root_name, d) for d in os.listdir(root_name)]\n",
    "for i,dset in enumerate(dset_paths):\n",
    "    print(i, dset)"
   ]
  },
  {
   "cell_type": "code",
   "execution_count": 5,
   "id": "2602e0e3-8066-4990-b85e-f2d82c865ca0",
   "metadata": {},
   "outputs": [],
   "source": [
    "dset_path = dset_paths[2]"
   ]
  },
  {
   "cell_type": "code",
   "execution_count": 6,
   "id": "9541fa8b-6f15-43a9-b7c0-e3de36fbfa4a",
   "metadata": {},
   "outputs": [
    {
     "name": "stdout",
     "output_type": "stream",
     "text": [
      "0 ./data/data/ex_1000.world.geometric_only.ppn_1.cls_2.tlf.ts_100.sl_15.gpt.aws_50.V0/metadata.txt\n",
      "1 ./data/data/ex_1000.world.geometric_only.ppn_1.cls_2.tlf.ts_100.sl_15.gpt.aws_50.V0/train_1_1.pth\n",
      "2 ./data/data/ex_1000.world.geometric_only.ppn_1.cls_2.tlf.ts_100.sl_15.gpt.aws_50.V0/val.pth\n"
     ]
    }
   ],
   "source": [
    "fnames = sorted([os.path.join(dset_path, d) for d in os.listdir(dset_path)])\n",
    "for i,fname in enumerate(fnames):\n",
    "    print(i, fname)"
   ]
  },
  {
   "cell_type": "code",
   "execution_count": 7,
   "id": "4258592a-f09b-4663-9fb6-a0386bde3b3f",
   "metadata": {},
   "outputs": [
    {
     "name": "stdout",
     "output_type": "stream",
     "text": [
      "mean ln(ref_obj attns): 0.79\n",
      "mean ln(ref_obj attns) without null: 0.80\n",
      "mean ln(all attns): 0.79\n",
      "null mem samples: 103/1000 (10.3%)\n",
      "\n"
     ]
    }
   ],
   "source": [
    "!cat {fnames[0]}"
   ]
  },
  {
   "cell_type": "code",
   "execution_count": 8,
   "id": "e0a2d26e-6228-4698-a0e7-34f4f9fcea52",
   "metadata": {},
   "outputs": [],
   "source": [
    "data = torch.load(fnames[2])"
   ]
  },
  {
   "cell_type": "code",
   "execution_count": 9,
   "id": "8d5eff64-81fd-4683-9dc8-71657d39bf92",
   "metadata": {},
   "outputs": [
    {
     "name": "stdout",
     "output_type": "stream",
     "text": [
      "N Samples: 200\n",
      "Sample Keys: dict_keys(['context', 'question', 'answer', 'answer_mask', 'mems', 'world_configs'])\n",
      "context Keys: dict_keys(['t_hash', 't_word', 't_float', 'r_hash', 'r_word', 'r_float', 't_mask', 'r_mask', 't_attn', 'r_attn', 'text', 'text_mask'])\n",
      "question Keys: dict_keys(['query_text', 'query_text_mask', 'query_tlf', 'query_slf', 'masks', 'tree_rels', 'clause_types'])\n",
      "world_configs Keys: dict_keys(['SL'])\n"
     ]
    }
   ],
   "source": [
    "print(\"N Samples:\", len(data))\n",
    "print(\"Sample Keys:\", data[0].keys())\n",
    "for k in data[0].keys():\n",
    "    try:\n",
    "        print(k, \"Keys:\", data[0][k].keys())\n",
    "    except: pass"
   ]
  },
  {
   "cell_type": "code",
   "execution_count": 10,
   "id": "7005889b-d8ae-4d64-aa48-794d583450d7",
   "metadata": {},
   "outputs": [
    {
     "data": {
      "text/plain": [
       "[15496, 995]"
      ]
     },
     "execution_count": 10,
     "metadata": {},
     "output_type": "execute_result"
    }
   ],
   "source": [
    "tokenizer = GPT2Tokenizer.from_pretrained(\"gpt2\")\n",
    "tokenizer(\"Hello world\")[\"input_ids\"]"
   ]
  },
  {
   "cell_type": "code",
   "execution_count": 11,
   "id": "42a6caa2-ce19-4a15-8eb1-1a8f1adc9af5",
   "metadata": {},
   "outputs": [],
   "source": [
    "contexts = [\n",
    "    tokenizer.decode(d[\"context\"][\"text\"]) for d in data\n",
    "]\n",
    "questions = [\n",
    "    tokenizer.decode(d[\"question\"][\"query_text\"]) for d in data\n",
    "]\n",
    "answers =  [\n",
    "    tokenizer.decode(d[\"answer\"]).replace(\"<|endoftext|>\", \"\") for d in data\n",
    "]"
   ]
  },
  {
   "cell_type": "code",
   "execution_count": 12,
   "id": "82152609-8c23-4770-8076-57a6001d8db1",
   "metadata": {},
   "outputs": [
    {
     "data": {
      "text/plain": [
       "'fake_agent is at location (5,7,7). fake_agent has pitch -0.01 and yaw -0.01. fake_agent has property agent. fake_agent has property self. birdie is at location (9,7,9). birdie has pitch 0.00 and yaw 0.58. birdie has property pig. birdie has property mottled. skyler is at location (5,7,7). skyler has pitch 0.00 and yaw -1.25. skyler has property cow. skyler has property mottled. indy is at location (9,7,8). indy has pitch 0.00 and yaw 2.63. indy has property sheep. indy has property mottled. bella is at location (9,7,6). bella has pitch 0.00 and yaw 2.32. bella has property sheep. bella has property mottled. speaker is at location (7,7,9). speaker has pitch 0.00 and yaw -0.04. cross is at location (5,7,7). cross has property shiny. cross has property fuchsia. cross has property _in_inventory. ring is at location (8,7,5). ring has property _on_ground. ring has property matte. ring has property green. ring has property small. cross is at location (5,7,7). cross has property _on_ground. cross has property maroon. cross has property large. inst_seg is at location (10,10,7). inst_seg has property square. inst_seg is at location (12,10,13). inst_seg has property rectangle. inst_seg is at location (2,6,10). inst_seg has property disk. inst_seg is at location (8,6,1). inst_seg has property hole. inst_seg is at location (4,5,2). inst_seg has property hole. fake_agent is at location (9,7,8). fake_agent has pitch -0.01 and yaw -0.01. fake_agent has property agent. fake_agent has property self. birdie is at location (9,7,9). birdie has pitch 0.00 and yaw 0.58. birdie has property pig. birdie has property mottled. skyler is at location (5,7,7). skyler has pitch 0.00 and yaw -1.25. skyler has property cow. skyler has property mottled. indy is at location (9,7,8). indy has pitch 0.00 and yaw 2.72. indy has property sheep. indy has property mottled. bella is at location (9,7,6). bella has pitch 0.00 and yaw 2.32. bella has property sheep. bella has property mottled. speaker is at location (7,7,9). speaker has pitch 0.00 and yaw -0.04. cross is at location (9,7,8). cross has property shiny. cross has property fuchsia. cross has property _in_inventory. ring is at location (8,7,5). ring has property _on_ground. ring has property matte. ring has property green. ring has property small. cross is at location (9,7,8). cross has property _on_ground. cross has property maroon. cross has property large. inst_seg is at location (10,10,7). inst_seg has property square. inst_seg is at location (12,10,13). inst_seg has property rectangle. inst_seg is at location (2,6,10). inst_seg has property disk. inst_seg is at location (8,6,1). inst_seg has property hole. inst_seg is at location (4,5,2). inst_seg has property hole.'"
      ]
     },
     "execution_count": 12,
     "metadata": {},
     "output_type": "execute_result"
    }
   ],
   "source": [
    "contexts[0]"
   ]
  },
  {
   "cell_type": "code",
   "execution_count": 13,
   "id": "82781556-8347-4aa1-8642-aa5af967389a",
   "metadata": {},
   "outputs": [
    {
     "data": {
      "text/plain": [
       "' which object is closest from square?'"
      ]
     },
     "execution_count": 13,
     "metadata": {},
     "output_type": "execute_result"
    }
   ],
   "source": [
    "questions[0]"
   ]
  },
  {
   "cell_type": "code",
   "execution_count": 14,
   "id": "c6ea0af4-87bd-4642-b31c-914f156b56a5",
   "metadata": {},
   "outputs": [
    {
     "data": {
      "text/plain": [
       "'indy'"
      ]
     },
     "execution_count": 14,
     "metadata": {},
     "output_type": "execute_result"
    }
   ],
   "source": [
    "answers[0]"
   ]
  },
  {
   "cell_type": "code",
   "execution_count": 15,
   "id": "0b1a80c3-3f0e-410b-bd32-c43093748b71",
   "metadata": {},
   "outputs": [],
   "source": [
    "val_data = torch.load(fnames[2])"
   ]
  },
  {
   "cell_type": "code",
   "execution_count": 16,
   "id": "708e601a-fbbc-46e1-92d3-e1fdb240194e",
   "metadata": {},
   "outputs": [],
   "source": [
    "val_contexts = [\n",
    "    tokenizer.decode(d[\"context\"][\"text\"]) for d in val_data\n",
    "]\n",
    "val_questions = [\n",
    "    tokenizer.decode(d[\"question\"][\"query_text\"]) for d in val_data\n",
    "]\n",
    "val_answers = [\n",
    "    tokenizer.decode(d[\"answer\"]).replace(\"<|endoftext|>\", \"\")  for d in val_data\n",
    "]"
   ]
  },
  {
   "cell_type": "markdown",
   "id": "10ef1f1e-1a50-4599-b0e9-62646603c12d",
   "metadata": {},
   "source": [
    "# GPT Responses"
   ]
  },
  {
   "cell_type": "code",
   "execution_count": 17,
   "id": "a9f5063b-e13c-4fb8-b04a-325ac1372d23",
   "metadata": {},
   "outputs": [
    {
     "data": {
      "text/plain": [
       "'fake_agent is at location (5,7,7). fake_agent has pitch -0.01 and yaw -0.01. fake_agent has property agent. fake_agent has property self. birdie is at location (9,7,9). birdie has pitch 0.00 and yaw 0.58. birdie has property pig. birdie has property mottled. skyler is at location (5,7,7). skyler has pitch 0.00 and yaw -1.25. skyler has property cow. skyler has property mottled. indy is at location (9,7,8). indy has pitch 0.00 and yaw 2.63. indy has property sheep. indy has property mottled. bella is at location (9,7,6). bella has pitch 0.00 and yaw 2.32. bella has property sheep. bella has property mottled. speaker is at location (7,7,9). speaker has pitch 0.00 and yaw -0.04. cross is at location (5,7,7). cross has property shiny. cross has property fuchsia. cross has property _in_inventory. ring is at location (8,7,5). ring has property _on_ground. ring has property matte. ring has property green. ring has property small. cross is at location (5,7,7). cross has property _on_ground. cross has property maroon. cross has property large. inst_seg is at location (10,10,7). inst_seg has property square. inst_seg is at location (12,10,13). inst_seg has property rectangle. inst_seg is at location (2,6,10). inst_seg has property disk. inst_seg is at location (8,6,1). inst_seg has property hole. inst_seg is at location (4,5,2). inst_seg has property hole. fake_agent is at location (9,7,8). fake_agent has pitch -0.01 and yaw -0.01. fake_agent has property agent. fake_agent has property self. birdie is at location (9,7,9). birdie has pitch 0.00 and yaw 0.58. birdie has property pig. birdie has property mottled. skyler is at location (5,7,7). skyler has pitch 0.00 and yaw -1.25. skyler has property cow. skyler has property mottled. indy is at location (9,7,8). indy has pitch 0.00 and yaw 2.72. indy has property sheep. indy has property mottled. bella is at location (9,7,6). bella has pitch 0.00 and yaw 2.32. bella has property sheep. bella has property mottled. speaker is at location (7,7,9). speaker has pitch 0.00 and yaw -0.04. cross is at location (9,7,8). cross has property shiny. cross has property fuchsia. cross has property _in_inventory. ring is at location (8,7,5). ring has property _on_ground. ring has property matte. ring has property green. ring has property small. cross is at location (9,7,8). cross has property _on_ground. cross has property maroon. cross has property large. inst_seg is at location (10,10,7). inst_seg has property square. inst_seg is at location (12,10,13). inst_seg has property rectangle. inst_seg is at location (2,6,10). inst_seg has property disk. inst_seg is at location (8,6,1). inst_seg has property hole. inst_seg is at location (4,5,2). inst_seg has property hole. which object is closest from square?'"
      ]
     },
     "execution_count": 17,
     "metadata": {},
     "output_type": "execute_result"
    }
   ],
   "source": [
    "example_q = val_contexts[0] + val_questions[0]\n",
    "example_q "
   ]
  },
  {
   "cell_type": "code",
   "execution_count": 18,
   "id": "c6a1158a-021f-498e-b0e6-c1c10246bf17",
   "metadata": {},
   "outputs": [
    {
     "data": {
      "text/plain": [
       "'indy'"
      ]
     },
     "execution_count": 18,
     "metadata": {},
     "output_type": "execute_result"
    }
   ],
   "source": [
    "example_ans = val_answers[0]\n",
    "example_ans"
   ]
  },
  {
   "cell_type": "markdown",
   "id": "1b96f0c0-9bf5-4c2c-90d6-d1421aac69bc",
   "metadata": {},
   "source": [
    "### Chat GPT"
   ]
  },
  {
   "cell_type": "markdown",
   "id": "4da5ad58-c954-4380-9453-e703e6aac960",
   "metadata": {},
   "source": [
    "Here we will see how chatgpt responds."
   ]
  },
  {
   "cell_type": "code",
   "execution_count": 19,
   "id": "c61b6c70-95f8-4ae2-a2b6-0c7933f322d8",
   "metadata": {},
   "outputs": [
    {
     "name": "stdout",
     "output_type": "stream",
     "text": [
      "Persona Prompt: You are a brilliant spatial thinker.\n"
     ]
    }
   ],
   "source": [
    "persona_prompt = \"You are a brilliant spatial thinker.\"\n",
    "print(\"Persona Prompt:\", persona_prompt)\n",
    "#print()\n",
    "#print()\n",
    "#print(\"Demonstration:\")\n",
    "#print(demonstration)"
   ]
  },
  {
   "cell_type": "code",
   "execution_count": 20,
   "id": "19072db3-6a6a-4682-92c5-81d8c0941686",
   "metadata": {},
   "outputs": [
    {
     "name": "stdout",
     "output_type": "stream",
     "text": [
      "Intro:\n",
      "I am going to give you a series of questions that start with information about a spatial environment followed by a question. Please answer the questions accurately, as a single sentence ending with a period.\n",
      "\n",
      "Question: fake_agent is at location (5,7,7). fake_agent has pitch -0.01 and yaw -0.01. fake_agent has property agent. fake_agent has property self. birdie is at location (9,7,9). birdie has pitch 0.00 and yaw 0.58. birdie has property pig. birdie has property mottled. skyler is at location (5,7,7). skyler has pitch 0.00 and yaw -1.25. skyler has property cow. skyler has property mottled. indy is at location (9,7,8). indy has pitch 0.00 and yaw 2.63. indy has property sheep. indy has property mottled. bella is at location (9,7,6). bella has pitch 0.00 and yaw 2.32. bella has property sheep. bella has property mottled. speaker is at location (7,7,9). speaker has pitch 0.00 and yaw -0.04. cross is at location (5,7,7). cross has property shiny. cross has property fuchsia. cross has property _in_inventory. ring is at location (8,7,5). ring has property _on_ground. ring has property matte. ring has property green. ring has property small. cross is at location (5,7,7). cross has property _on_ground. cross has property maroon. cross has property large. inst_seg is at location (10,10,7). inst_seg has property square. inst_seg is at location (12,10,13). inst_seg has property rectangle. inst_seg is at location (2,6,10). inst_seg has property disk. inst_seg is at location (8,6,1). inst_seg has property hole. inst_seg is at location (4,5,2). inst_seg has property hole. fake_agent is at location (9,7,8). fake_agent has pitch -0.01 and yaw -0.01. fake_agent has property agent. fake_agent has property self. birdie is at location (9,7,9). birdie has pitch 0.00 and yaw 0.58. birdie has property pig. birdie has property mottled. skyler is at location (5,7,7). skyler has pitch 0.00 and yaw -1.25. skyler has property cow. skyler has property mottled. indy is at location (9,7,8). indy has pitch 0.00 and yaw 2.72. indy has property sheep. indy has property mottled. bella is at location (9,7,6). bella has pitch 0.00 and yaw 2.32. bella has property sheep. bella has property mottled. speaker is at location (7,7,9). speaker has pitch 0.00 and yaw -0.04. cross is at location (9,7,8). cross has property shiny. cross has property fuchsia. cross has property _in_inventory. ring is at location (8,7,5). ring has property _on_ground. ring has property matte. ring has property green. ring has property small. cross is at location (9,7,8). cross has property _on_ground. cross has property maroon. cross has property large. inst_seg is at location (10,10,7). inst_seg has property square. inst_seg is at location (12,10,13). inst_seg has property rectangle. inst_seg is at location (2,6,10). inst_seg has property disk. inst_seg is at location (8,6,1). inst_seg has property hole. inst_seg is at location (4,5,2). inst_seg has property hole. which object is closest from square?\n",
      "Answer: indy.\n"
     ]
    }
   ],
   "source": [
    "intro = \"I am going to give you a series of questions that start with information \"+\\\n",
    "                \"about a spatial environment followed by a question.\"+\\\n",
    "                \" Please answer the questions accurately, as a single sentence ending with a period.\\n\\nQuestion: \" + example_q +\\\n",
    "                \"\\nAnswer: \" + example_ans + \".\"\n",
    "print(\"Intro:\")\n",
    "print(intro)"
   ]
  },
  {
   "cell_type": "code",
   "execution_count": 21,
   "id": "2ccd29f9-d00c-45e6-99e9-bb8125635494",
   "metadata": {},
   "outputs": [],
   "source": [
    "def get_query(context, question, intro):\n",
    "    query = \"\\n\\nQuestion: \"+ context + question + \"\\nAnswer:\"\n",
    "    return intro + query"
   ]
  },
  {
   "cell_type": "code",
   "execution_count": 22,
   "id": "c1daf21d-f3c3-4bb6-84db-99ee24db09e4",
   "metadata": {},
   "outputs": [
    {
     "name": "stdout",
     "output_type": "stream",
     "text": [
      "Example: I am going to give you a series of questions that start with information about a spatial environment followed by a question. Please answer the questions accurately, as a single sentence ending with a period.\n",
      "\n",
      "Question: fake_agent is at location (5,7,7). fake_agent has pitch -0.01 and yaw -0.01. fake_agent has property agent. fake_agent has property self. birdie is at location (9,7,9). birdie has pitch 0.00 and yaw 0.58. birdie has property pig. birdie has property mottled. skyler is at location (5,7,7). skyler has pitch 0.00 and yaw -1.25. skyler has property cow. skyler has property mottled. indy is at location (9,7,8). indy has pitch 0.00 and yaw 2.63. indy has property sheep. indy has property mottled. bella is at location (9,7,6). bella has pitch 0.00 and yaw 2.32. bella has property sheep. bella has property mottled. speaker is at location (7,7,9). speaker has pitch 0.00 and yaw -0.04. cross is at location (5,7,7). cross has property shiny. cross has property fuchsia. cross has property _in_inventory. ring is at location (8,7,5). ring has property _on_ground. ring has property matte. ring has property green. ring has property small. cross is at location (5,7,7). cross has property _on_ground. cross has property maroon. cross has property large. inst_seg is at location (10,10,7). inst_seg has property square. inst_seg is at location (12,10,13). inst_seg has property rectangle. inst_seg is at location (2,6,10). inst_seg has property disk. inst_seg is at location (8,6,1). inst_seg has property hole. inst_seg is at location (4,5,2). inst_seg has property hole. fake_agent is at location (9,7,8). fake_agent has pitch -0.01 and yaw -0.01. fake_agent has property agent. fake_agent has property self. birdie is at location (9,7,9). birdie has pitch 0.00 and yaw 0.58. birdie has property pig. birdie has property mottled. skyler is at location (5,7,7). skyler has pitch 0.00 and yaw -1.25. skyler has property cow. skyler has property mottled. indy is at location (9,7,8). indy has pitch 0.00 and yaw 2.72. indy has property sheep. indy has property mottled. bella is at location (9,7,6). bella has pitch 0.00 and yaw 2.32. bella has property sheep. bella has property mottled. speaker is at location (7,7,9). speaker has pitch 0.00 and yaw -0.04. cross is at location (9,7,8). cross has property shiny. cross has property fuchsia. cross has property _in_inventory. ring is at location (8,7,5). ring has property _on_ground. ring has property matte. ring has property green. ring has property small. cross is at location (9,7,8). cross has property _on_ground. cross has property maroon. cross has property large. inst_seg is at location (10,10,7). inst_seg has property square. inst_seg is at location (12,10,13). inst_seg has property rectangle. inst_seg is at location (2,6,10). inst_seg has property disk. inst_seg is at location (8,6,1). inst_seg has property hole. inst_seg is at location (4,5,2). inst_seg has property hole. which object is closest from square?\n",
      "Answer: indy.\n",
      "\n",
      "Question: fake_agent is at location (5,7,7). fake_agent has pitch 0.00 and yaw 0.02. fake_agent has property agent. fake_agent has property self. big foot is at location (8,7,8). big foot has pitch 0.00 and yaw 2.73. big foot has property pig. big foot has property yellow. apollo is at location (9,7,9). apollo has pitch 0.00 and yaw 2.02. apollo has property chicken. apollo has property yellow. harry is at location (9,7,6). harry has pitch 0.00 and yaw 2.87. harry has property chicken. harry has property brown. billy is at location (7,7,6). billy has pitch 0.00 and yaw -2.23. billy has property pig. billy has property brown. speaker is at location (8,7,7). speaker has pitch -0.02 and yaw -0.05. ball is at location (5,7,7). ball has property matte. ball has property fuchsia. ball has property small. ball has property _in_inventory. inst_seg is at location (12,5,13). inst_seg has property hole. fake_agent is at location (9,7,4). fake_agent has pitch 0.00 and yaw 0.02. fake_agent has property agent. fake_agent has property self. big foot is at location (8,7,7). big foot has pitch 0.00 and yaw 2.73. big foot has property pig. big foot has property yellow. apollo is at location (9,7,8). apollo has pitch 0.00 and yaw -3.06. apollo has property chicken. apollo has property yellow. harry is at location (9,7,7). harry has pitch 0.00 and yaw 0.58. harry has property chicken. harry has property brown. billy is at location (7,7,6). billy has pitch 0.00 and yaw -2.23. billy has property pig. billy has property brown. speaker is at location (8,7,7). speaker has pitch -0.02 and yaw -0.05. ball is at location (9,7,4). ball has property matte. ball has property fuchsia. ball has property small. ball has property _in_inventory. inst_seg is at location (12,5,13). inst_seg has property hole. what is the location 1 steps to my left?\n",
      "Answer:\n"
     ]
    }
   ],
   "source": [
    "example_query = get_query(val_contexts[1], val_questions[1], intro)\n",
    "print(\"Example:\", example_query)"
   ]
  },
  {
   "cell_type": "code",
   "execution_count": 76,
   "id": "e9522b76-f831-4d7a-b4f0-b3d996990264",
   "metadata": {},
   "outputs": [
    {
     "name": "stdout",
     "output_type": "stream",
     "text": [
      "{\n",
      "  \"role\": \"assistant\",\n",
      "  \"content\": \"inst_seg.\"\n",
      "}\n"
     ]
    }
   ],
   "source": [
    "#response = openai.ChatCompletion.create(\n",
    "#  model=\"gpt-3.5-turbo\",\n",
    "#  messages=[\n",
    "#    {\"role\": \"system\", \"content\": persona_prompt },\n",
    "#    {\"role\": \"user\", \"content\": example_query}\n",
    "#  ]\n",
    "#)"
   ]
  },
  {
   "cell_type": "code",
   "execution_count": 77,
   "id": "1acd843b-31de-42b8-9cd1-c2c050d7144d",
   "metadata": {},
   "outputs": [
    {
     "data": {
      "text/plain": [
       "<OpenAIObject chat.completion id=chatcmpl-80TvkSqHrguC8yz7xGy8d8bzIgJeC at 0x7f24c287fa70> JSON: {\n",
       "  \"id\": \"chatcmpl-80TvkSqHrguC8yz7xGy8d8bzIgJeC\",\n",
       "  \"object\": \"chat.completion\",\n",
       "  \"created\": 1695125744,\n",
       "  \"model\": \"gpt-3.5-turbo-0613\",\n",
       "  \"choices\": [\n",
       "    {\n",
       "      \"index\": 0,\n",
       "      \"message\": {\n",
       "        \"role\": \"assistant\",\n",
       "        \"content\": \"inst_seg.\"\n",
       "      },\n",
       "      \"finish_reason\": \"stop\"\n",
       "    }\n",
       "  ],\n",
       "  \"usage\": {\n",
       "    \"prompt_tokens\": 1740,\n",
       "    \"completion_tokens\": 3,\n",
       "    \"total_tokens\": 1743\n",
       "  }\n",
       "}"
      ]
     },
     "execution_count": 77,
     "metadata": {},
     "output_type": "execute_result"
    }
   ],
   "source": [
    "#response\n",
    "\n",
    "#<OpenAIObject chat.completion id=chatcmpl-80TvkSqHrguC8yz7xGy8d8bzIgJeC at 0x7f24c287fa70> JSON: {\n",
    "#  \"id\": \"chatcmpl-80TvkSqHrguC8yz7xGy8d8bzIgJeC\",\n",
    "#  \"object\": \"chat.completion\",\n",
    "#  \"created\": 1695125744,\n",
    "#  \"model\": \"gpt-3.5-turbo-0613\",\n",
    "#  \"choices\": [\n",
    "#    {\n",
    "#      \"index\": 0,\n",
    "#      \"message\": {\n",
    "#        \"role\": \"assistant\",\n",
    "#        \"content\": \"inst_seg.\"\n",
    "#      },\n",
    "#      \"finish_reason\": \"stop\"\n",
    "#    }\n",
    "#  ],\n",
    "#  \"usage\": {\n",
    "#    \"prompt_tokens\": 1740,\n",
    "#    \"completion_tokens\": 3,\n",
    "#    \"total_tokens\": 1743\n",
    "#  }\n",
    "#}"
   ]
  },
  {
   "cell_type": "code",
   "execution_count": 82,
   "id": "7041bb08-2931-42c0-9c2f-7200d63371c9",
   "metadata": {},
   "outputs": [
    {
     "name": "stdout",
     "output_type": "stream",
     "text": [
      "Correct Answer: (8, 7, 8)\n",
      "GPT Answer: inst_seg.\n"
     ]
    }
   ],
   "source": [
    "print(\"Correct Answer:\", val_answers[1])\n",
    "print(\"GPT Answer:\", response[\"choices\"][0][\"message\"][\"content\"])"
   ]
  },
  {
   "cell_type": "code",
   "execution_count": 84,
   "id": "45fe496c-747d-4ed7-ae2d-317f27d01bab",
   "metadata": {},
   "outputs": [
    {
     "name": "stdout",
     "output_type": "stream",
     "text": [
      "API Price Per Request: 0.002616\n",
      "Experiment Cost: 2.0928\n"
     ]
    }
   ],
   "source": [
    "price_per_1k_prompt = 0.0015\n",
    "price_per_1k_complet = 0.002\n",
    "cost = response[\"usage\"][\"prompt_tokens\"]/1000*price_per_1k_prompt + response[\"usage\"][\"completion_tokens\"]/1000*price_per_1k_complet\n",
    "print(\"API Price Per Request:\", cost)\n",
    "print(\"Experiment Cost:\", cost*len(contexts))"
   ]
  },
  {
   "cell_type": "markdown",
   "id": "6acce911-9e88-48a5-9ed2-a9866fa8f417",
   "metadata": {
    "editable": true,
    "slideshow": {
     "slide_type": ""
    },
    "tags": []
   },
   "source": [
    "### API Calls"
   ]
  },
  {
   "cell_type": "code",
   "execution_count": 23,
   "id": "f8841c3d-1dc3-4c48-a8a4-eda5dd1216a6",
   "metadata": {},
   "outputs": [],
   "source": [
    "def request_gpt(context, question, intro):\n",
    "    query = get_query(context, question, intro)\n",
    "    return openai.ChatCompletion.create(\n",
    "      model=\"gpt-3.5-turbo\",\n",
    "      messages=[\n",
    "        {\"role\": \"system\", \"content\": persona_prompt },\n",
    "        {\"role\": \"user\", \"content\": query}\n",
    "      ]\n",
    "    )\n"
   ]
  },
  {
   "cell_type": "code",
   "execution_count": 25,
   "id": "b1c322c8-9b42-4b77-b1ea-74e37f5548b2",
   "metadata": {},
   "outputs": [
    {
     "name": "stderr",
     "output_type": "stream",
     "text": [
      "4it [00:03,  1.26it/s]"
     ]
    },
    {
     "name": "stdout",
     "output_type": "stream",
     "text": [
      "Total Responses: 5\n",
      "\n"
     ]
    },
    {
     "name": "stderr",
     "output_type": "stream",
     "text": [
      "\n"
     ]
    },
    {
     "data": {
      "text/plain": [
       "<OpenAIObject chat.completion id=chatcmpl-80VE7QRfUnfGLFCBBwR6wG8zVO9Hn at 0x7fbf16a91c10> JSON: {\n",
       "  \"id\": \"chatcmpl-80VE7QRfUnfGLFCBBwR6wG8zVO9Hn\",\n",
       "  \"object\": \"chat.completion\",\n",
       "  \"created\": 1695130727,\n",
       "  \"model\": \"gpt-3.5-turbo-0613\",\n",
       "  \"choices\": [\n",
       "    {\n",
       "      \"index\": 0,\n",
       "      \"message\": {\n",
       "        \"role\": \"assistant\",\n",
       "        \"content\": \"cross.\"\n",
       "      },\n",
       "      \"finish_reason\": \"stop\"\n",
       "    }\n",
       "  ],\n",
       "  \"usage\": {\n",
       "    \"prompt_tokens\": 1701,\n",
       "    \"completion_tokens\": 2,\n",
       "    \"total_tokens\": 1703\n",
       "  }\n",
       "}"
      ]
     },
     "execution_count": 25,
     "metadata": {},
     "output_type": "execute_result"
    }
   ],
   "source": [
    "responses = []\n",
    "for i,(context, question) in tqdm.tqdm(enumerate(zip(contexts, questions))):\n",
    "    try:\n",
    "        r = request_gpt(context, question, intro)\n",
    "        responses.append(r)\n",
    "    except:\n",
    "        print(\"Exception occurred at\", i)\n",
    "        assert False\n",
    "    if i>3: break\n",
    "print(\"Total Responses:\", len(responses))\n",
    "print()\n",
    "responses[0]"
   ]
  },
  {
   "cell_type": "code",
   "execution_count": 29,
   "id": "6d0ffc3c-bf78-4d97-a53e-4dff884f580b",
   "metadata": {},
   "outputs": [
    {
     "data": {
      "text/plain": [
       "'fake_agent is at location (8,7,5). fake_agent has pitch 0.01 and yaw 0.01. fake_agent has property agent. fake_agent has property self. aggie is at location (9,7,7). aggie has pitch 0.00 and yaw -1.52. aggie has property cow. aggie has property brown. beans is at location (5,7,9). beans has pitch 0.00 and yaw -1.12. beans has property cow. beans has property mottled. amy is at location (9,7,8). amy has pitch 0.00 and yaw 2.34. amy has property rabbit. amy has property gray. bishop is at location (7,7,8). bishop has pitch 0.00 and yaw -2.50. bishop has property rabbit. bishop has property mottled. speaker is at location (9,7,5). speaker has pitch 0.03 and yaw -0.05. ball is at location (9,7,5). ball has property fuzzy. ball has property _in_others_inventory. inst_seg is at location (8,0,10). inst_seg has property spherical_shell. inst_seg is at location (4,6,3). inst_seg has property arch. inst_seg is at location (12,9,10). inst_seg has property disk. inst_seg is at location (2,6,1). inst_seg has property hole. fake_agent is at location (5,4,6). fake_agent has pitch 0.01 and yaw 0.01. fake_agent has property agent. fake_agent has property self. aggie is at location (9,7,7). aggie has pitch 0.00 and yaw -1.52. aggie has property cow. aggie has property brown. beans is at location (5,7,9). beans has pitch 0.00 and yaw -1.12. beans has property cow. beans has property mottled. amy is at location (9,7,8). amy has pitch 0.00 and yaw -1.28. amy has property rabbit. amy has property gray. bishop is at location (5,4,6). bishop has pitch 0.00 and yaw 0.73. bishop has property rabbit. bishop has property mottled. speaker is at location (9,7,5). speaker has pitch 0.03 and yaw -0.05. ball is at location (9,7,5). ball has property fuzzy. ball has property _in_others_inventory. inst_seg is at location (8,0,10). inst_seg has property spherical_shell. inst_seg is at location (4,6,3). inst_seg has property arch. inst_seg is at location (12,9,10). inst_seg has property disk. inst_seg is at location (2,6,1). inst_seg has property hole.'"
      ]
     },
     "execution_count": 29,
     "metadata": {},
     "output_type": "execute_result"
    }
   ],
   "source": [
    "contexts[2]"
   ]
  },
  {
   "cell_type": "code",
   "execution_count": 30,
   "id": "2e230a1f-618e-492a-a3ba-06bf9a82f8d1",
   "metadata": {},
   "outputs": [
    {
     "data": {
      "text/plain": [
       "' what did you do?'"
      ]
     },
     "execution_count": 30,
     "metadata": {},
     "output_type": "execute_result"
    }
   ],
   "source": [
    "questions[2]"
   ]
  },
  {
   "cell_type": "code",
   "execution_count": 31,
   "id": "461377ee-6e65-48bb-9891-c5639d095b2c",
   "metadata": {},
   "outputs": [
    {
     "data": {
      "text/plain": [
       "'dig'"
      ]
     },
     "execution_count": 31,
     "metadata": {},
     "output_type": "execute_result"
    }
   ],
   "source": [
    "answers[2]"
   ]
  },
  {
   "cell_type": "code",
   "execution_count": null,
   "id": "612cc92b-cbaf-46f1-93a1-26463a6246c6",
   "metadata": {},
   "outputs": [],
   "source": []
  },
  {
   "cell_type": "code",
   "execution_count": 27,
   "id": "c5d31916-b1f0-49e9-b645-c6c60e8230c8",
   "metadata": {},
   "outputs": [
    {
     "data": {
      "text/html": [
       "<div>\n",
       "<style scoped>\n",
       "    .dataframe tbody tr th:only-of-type {\n",
       "        vertical-align: middle;\n",
       "    }\n",
       "\n",
       "    .dataframe tbody tr th {\n",
       "        vertical-align: top;\n",
       "    }\n",
       "\n",
       "    .dataframe thead th {\n",
       "        text-align: right;\n",
       "    }\n",
       "</style>\n",
       "<table border=\"1\" class=\"dataframe\">\n",
       "  <thead>\n",
       "    <tr style=\"text-align: right;\">\n",
       "      <th></th>\n",
       "      <th>id</th>\n",
       "      <th>created</th>\n",
       "      <th>model</th>\n",
       "      <th>message</th>\n",
       "      <th>role</th>\n",
       "      <th>finish_reason</th>\n",
       "      <th>prompt_tokens</th>\n",
       "      <th>completion_tokens</th>\n",
       "      <th>context</th>\n",
       "      <th>question</th>\n",
       "      <th>answer</th>\n",
       "    </tr>\n",
       "  </thead>\n",
       "  <tbody>\n",
       "    <tr>\n",
       "      <th>0</th>\n",
       "      <td>chatcmpl-80VE7QRfUnfGLFCBBwR6wG8zVO9Hn</td>\n",
       "      <td>1695130727</td>\n",
       "      <td>gpt-3.5-turbo-0613</td>\n",
       "      <td>cross.</td>\n",
       "      <td>assistant</td>\n",
       "      <td>stop</td>\n",
       "      <td>1701</td>\n",
       "      <td>2</td>\n",
       "      <td>fake_agent is at location (5,7,7). fake_agent ...</td>\n",
       "      <td>which object is closest from square?</td>\n",
       "      <td>indy</td>\n",
       "    </tr>\n",
       "    <tr>\n",
       "      <th>1</th>\n",
       "      <td>chatcmpl-80VE7dvxWKv5oFJVYXtKbaeJG5rHu</td>\n",
       "      <td>1695130727</td>\n",
       "      <td>gpt-3.5-turbo-0613</td>\n",
       "      <td>(4,7,7).</td>\n",
       "      <td>assistant</td>\n",
       "      <td>stop</td>\n",
       "      <td>1439</td>\n",
       "      <td>7</td>\n",
       "      <td>fake_agent is at location (5,7,7). fake_agent ...</td>\n",
       "      <td>what is the location 1 steps to my left?</td>\n",
       "      <td>(8, 7, 8)</td>\n",
       "    </tr>\n",
       "    <tr>\n",
       "      <th>2</th>\n",
       "      <td>chatcmpl-80VE8dQYZxw0KPMaC5cYu8ZEqJQD2</td>\n",
       "      <td>1695130728</td>\n",
       "      <td>gpt-3.5-turbo-0613</td>\n",
       "      <td>I answered the previous question accurately.</td>\n",
       "      <td>assistant</td>\n",
       "      <td>stop</td>\n",
       "      <td>1509</td>\n",
       "      <td>7</td>\n",
       "      <td>fake_agent is at location (8,7,5). fake_agent ...</td>\n",
       "      <td>what did you do?</td>\n",
       "      <td>dig</td>\n",
       "    </tr>\n",
       "    <tr>\n",
       "      <th>3</th>\n",
       "      <td>chatcmpl-80VE9Jo72PPqZCJyv97qojUTbG9Cx</td>\n",
       "      <td>1695130729</td>\n",
       "      <td>gpt-3.5-turbo-0613</td>\n",
       "      <td>savannah.</td>\n",
       "      <td>assistant</td>\n",
       "      <td>stop</td>\n",
       "      <td>1607</td>\n",
       "      <td>3</td>\n",
       "      <td>fake_agent is at location (7,7,9). fake_agent ...</td>\n",
       "      <td>which object has the largest z?</td>\n",
       "      <td>fake_agent</td>\n",
       "    </tr>\n",
       "    <tr>\n",
       "      <th>4</th>\n",
       "      <td>chatcmpl-80VE9Xajveh4QT2hmJeuIF4sjtxym</td>\n",
       "      <td>1695130729</td>\n",
       "      <td>gpt-3.5-turbo-0613</td>\n",
       "      <td>I answered the question accurately.</td>\n",
       "      <td>assistant</td>\n",
       "      <td>stop</td>\n",
       "      <td>1543</td>\n",
       "      <td>6</td>\n",
       "      <td>fake_agent is at location (6,7,9). fake_agent ...</td>\n",
       "      <td>what did you do?</td>\n",
       "      <td>dig</td>\n",
       "    </tr>\n",
       "  </tbody>\n",
       "</table>\n",
       "</div>"
      ],
      "text/plain": [
       "                                       id     created               model  \\\n",
       "0  chatcmpl-80VE7QRfUnfGLFCBBwR6wG8zVO9Hn  1695130727  gpt-3.5-turbo-0613   \n",
       "1  chatcmpl-80VE7dvxWKv5oFJVYXtKbaeJG5rHu  1695130727  gpt-3.5-turbo-0613   \n",
       "2  chatcmpl-80VE8dQYZxw0KPMaC5cYu8ZEqJQD2  1695130728  gpt-3.5-turbo-0613   \n",
       "3  chatcmpl-80VE9Jo72PPqZCJyv97qojUTbG9Cx  1695130729  gpt-3.5-turbo-0613   \n",
       "4  chatcmpl-80VE9Xajveh4QT2hmJeuIF4sjtxym  1695130729  gpt-3.5-turbo-0613   \n",
       "\n",
       "                                        message       role finish_reason  \\\n",
       "0                                        cross.  assistant          stop   \n",
       "1                                      (4,7,7).  assistant          stop   \n",
       "2  I answered the previous question accurately.  assistant          stop   \n",
       "3                                     savannah.  assistant          stop   \n",
       "4           I answered the question accurately.  assistant          stop   \n",
       "\n",
       "   prompt_tokens  completion_tokens  \\\n",
       "0           1701                  2   \n",
       "1           1439                  7   \n",
       "2           1509                  7   \n",
       "3           1607                  3   \n",
       "4           1543                  6   \n",
       "\n",
       "                                             context  \\\n",
       "0  fake_agent is at location (5,7,7). fake_agent ...   \n",
       "1  fake_agent is at location (5,7,7). fake_agent ...   \n",
       "2  fake_agent is at location (8,7,5). fake_agent ...   \n",
       "3  fake_agent is at location (7,7,9). fake_agent ...   \n",
       "4  fake_agent is at location (6,7,9). fake_agent ...   \n",
       "\n",
       "                                    question      answer  \n",
       "0       which object is closest from square?        indy  \n",
       "1   what is the location 1 steps to my left?   (8, 7, 8)  \n",
       "2                           what did you do?         dig  \n",
       "3            which object has the largest z?  fake_agent  \n",
       "4                           what did you do?         dig  "
      ]
     },
     "execution_count": 27,
     "metadata": {},
     "output_type": "execute_result"
    }
   ],
   "source": [
    "results = {\n",
    "  \"id\":[],\n",
    "  \"created\":[],\n",
    "  \"model\": [],\n",
    "  \"message\": [],\n",
    "  \"role\": [],\n",
    "  \"finish_reason\": [],\n",
    "  \"prompt_tokens\": [],\n",
    "  \"completion_tokens\": [],\n",
    "  \"context\": [],\n",
    "  \"question\": [],\n",
    "  \"answer\": [],\n",
    "}\n",
    "for r,context,question,answer in zip(responses, contexts, questions, answers):\n",
    "    results[\"id\"].append(r[\"id\"])\n",
    "    results[\"created\"].append(r[\"created\"])\n",
    "    results[\"model\"].append(r[\"model\"])\n",
    "    results[\"message\"].append(r[\"choices\"][0][\"message\"][\"content\"])\n",
    "    results[\"role\"].append(r[\"choices\"][0][\"message\"][\"role\"])\n",
    "    results[\"finish_reason\"].append(r[\"choices\"][0][\"finish_reason\"])\n",
    "    results[\"prompt_tokens\"].append(r[\"usage\"][\"prompt_tokens\"])\n",
    "    results[\"completion_tokens\"].append(r[\"usage\"][\"completion_tokens\"])\n",
    "    results[\"context\"].append(context)\n",
    "    results[\"question\"].append(question)\n",
    "    results[\"answer\"].append(answer)\n",
    "df = pd.DataFrame(results)\n",
    "df"
   ]
  },
  {
   "cell_type": "code",
   "execution_count": null,
   "id": "b0871d6c-295c-4559-9427-20c2e619c185",
   "metadata": {},
   "outputs": [],
   "source": []
  },
  {
   "cell_type": "code",
   "execution_count": null,
   "id": "86b5d603-578e-41e5-986b-b4b27897ac90",
   "metadata": {},
   "outputs": [],
   "source": []
  },
  {
   "cell_type": "code",
   "execution_count": null,
   "id": "221cd960-a745-4312-b675-c5a0c4e05f54",
   "metadata": {},
   "outputs": [],
   "source": []
  },
  {
   "cell_type": "code",
   "execution_count": null,
   "id": "4224d53a-bd9d-4fa5-beee-65104bb685aa",
   "metadata": {},
   "outputs": [],
   "source": []
  },
  {
   "cell_type": "code",
   "execution_count": null,
   "id": "94ca9525-ba13-4c4f-b0a3-367ac4a5659b",
   "metadata": {},
   "outputs": [],
   "source": []
  },
  {
   "cell_type": "code",
   "execution_count": null,
   "id": "a1198d34-795a-40d3-8154-4d144b62e0b4",
   "metadata": {},
   "outputs": [],
   "source": []
  },
  {
   "cell_type": "code",
   "execution_count": null,
   "id": "adbf8fba-4a96-44c0-83b1-c210fc936082",
   "metadata": {},
   "outputs": [],
   "source": []
  },
  {
   "cell_type": "code",
   "execution_count": null,
   "id": "2e5f7379-2177-418f-b238-210b61ab0ea1",
   "metadata": {},
   "outputs": [],
   "source": []
  },
  {
   "cell_type": "code",
   "execution_count": null,
   "id": "9643ef90-5fe9-4230-b976-95d42cc10087",
   "metadata": {},
   "outputs": [],
   "source": []
  }
 ],
 "metadata": {
  "kernelspec": {
   "display_name": "Python 3 (ipykernel)",
   "language": "python",
   "name": "python3"
  },
  "language_info": {
   "codemirror_mode": {
    "name": "ipython",
    "version": 3
   },
   "file_extension": ".py",
   "mimetype": "text/x-python",
   "name": "python",
   "nbconvert_exporter": "python",
   "pygments_lexer": "ipython3",
   "version": "3.9.7"
  }
 },
 "nbformat": 4,
 "nbformat_minor": 5
}
